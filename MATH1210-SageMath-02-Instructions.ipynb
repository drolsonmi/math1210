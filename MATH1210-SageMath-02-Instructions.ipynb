{
 "cells": [
  {
   "cell_type": "markdown",
   "metadata": {},
   "source": [
    "# Project 2 - Algebraic Tools in SageMath - Tutorial\n",
    "### MATH 1210 - Calculus 1 &nbsp;&nbsp;&nbsp;&nbsp;&nbsp; Dr. Michael Olson &nbsp;&nbsp;&nbsp;&nbsp;&nbsp; Fall 2021"
   ]
  },
  {
   "cell_type": "markdown",
   "metadata": {
    "jp-MarkdownHeadingCollapsed": true,
    "tags": []
   },
   "source": [
    "## Lesson 2 - Algebra\n",
    "SageMath works as a fantastic Calculus tool. It is also a great Algebraic tool. And Linear Algebra tool, and geometry, and plotting tool, and ... the list goes on. The following link is for a handful of quick-reference sheets that may be useful to you.\n",
    "* Quick Reference Sheets: [https://wiki.sagemath.org/quickref](https://wiki.sagemath.org/quickref)\n",
    "\n",
    "In this project, we will focus specifically on Algebra and at graphing. Here are two helpful reference:\n",
    "* Quick Reference for Basic Functions: [https://wiki.sagemath.org/quickref?action=AttachFile&do=view&target=quickref.pdf](https://wiki.sagemath.org/quickref?action=AttachFile&do=view&target=quickref.pdf)\n",
    "* 2D Plotting: [https://doc.sagemath.org/html/en/reference/plotting/sage/plot/plot.html](https://doc.sagemath.org/html/en/reference/plotting/sage/plot/plot.html)\n",
    "  * Full reference manual on 2d Graphics: [https://doc.sagemath.org/pdf/en/reference/plotting/plotting.pdf](https://doc.sagemath.org/pdf/en/reference/plotting/plotting.pdf)\n",
    "  \n",
    "There will be three parts to this lesson:\n",
    "1. Solving for $x$\n",
    "2. Composite Functions\n",
    "3. Simplifying\n",
    "\n",
    "Below is the tutorial on both topics. Use this while completing SageMath Project 2."
   ]
  },
  {
   "cell_type": "markdown",
   "metadata": {},
   "source": [
    "## Setup\n",
    "We're going to use these functions in our tutorial.\n",
    "$$f(x) = x^2 - 4x + 3 \\qquad g(x) = x - 1$$\n",
    "\n",
    "We start by programming the two functions. Remember to define your variable!"
   ]
  },
  {
   "cell_type": "code",
   "execution_count": 1,
   "metadata": {},
   "outputs": [],
   "source": [
    "x = var('x')\n",
    "f(x) = x^2 - 4*x + 3\n",
    "g(x) = x - 1"
   ]
  },
  {
   "cell_type": "markdown",
   "metadata": {},
   "source": [
    "## Solve for $x$\n",
    "We can easily solve for $x$ using SageMath. For example, let's say that we want to find $x$ for $f(x)=0$. Then, we can just use the ```solve(expression,variable)``` function. We just need to identify the expression and the variable to solve for.\n",
    "\n",
    "* *Note:* When we want to use '=' in an expression, we have to use a double '=='.\n",
    "  * A single '=' means we are setting a value to a variable or function.\n",
    "  * x = 1 means we are setting $x = 1$ in the program.\n",
    "  * x == 1 tests to see whether the left side ($x$) is equal to the right side ($1$).\n",
    "  \n",
    "Let's solve the equation $x+3=-5$ for $x$."
   ]
  },
  {
   "cell_type": "code",
   "execution_count": 2,
   "metadata": {},
   "outputs": [
    {
     "data": {
      "text/plain": [
       "[x == -8]"
      ]
     },
     "execution_count": 2,
     "metadata": {},
     "output_type": "execute_result"
    }
   ],
   "source": [
    "solve(x + 3 == -5, x)"
   ]
  },
  {
   "cell_type": "markdown",
   "metadata": {},
   "source": [
    "We can also use a predefined function to solve for $x$. Let's solve for $x$ in the expression $f(x) = g(x)$.\n",
    "* You can solve this by setting them equal to each other and combining like terms\n",
    "$$ x^2 - 4x + 3 = x - 1$$\n",
    "$$ x^2 - 5x + 4 = 0$$\n",
    "* Then either factor or use the quadratic formula to find a solution\n",
    "* Try to solve this by hand and see if you get the same answers as SageMath\n",
    "\n",
    "Here's how to do it in SageMath:"
   ]
  },
  {
   "cell_type": "code",
   "execution_count": 3,
   "metadata": {},
   "outputs": [
    {
     "data": {
      "text/plain": [
       "[x == 1, x == 4]"
      ]
     },
     "execution_count": 3,
     "metadata": {},
     "output_type": "execute_result"
    }
   ],
   "source": [
    "solve(  f(x) == g(x)  , x)"
   ]
  },
  {
   "cell_type": "markdown",
   "metadata": {},
   "source": [
    "## Composition of Functions\n",
    "Now, let's use SageMath to evaluate:\n",
    "1. $f(x) + g(x)$\n",
    "2. $\\frac{f(x)}{g(x)}$\n",
    "3. $f(g(x))$\n",
    "\n",
    "### Addition and Subtraction\n",
    "Addition and Subtraction is very easy in SageMath. Just type in the equation."
   ]
  },
  {
   "cell_type": "code",
   "execution_count": 4,
   "metadata": {},
   "outputs": [
    {
     "data": {
      "text/plain": [
       "x^2 - 3*x + 2"
      ]
     },
     "execution_count": 4,
     "metadata": {},
     "output_type": "execute_result"
    }
   ],
   "source": [
    "f(x) + g(x)"
   ]
  },
  {
   "cell_type": "markdown",
   "metadata": {},
   "source": [
    "Sometimes, we'll want to save this result and use it later. To do this, just set it equal to another function:"
   ]
  },
  {
   "cell_type": "code",
   "execution_count": 5,
   "metadata": {},
   "outputs": [],
   "source": [
    "h(x) = f(x) + g(x)"
   ]
  },
  {
   "cell_type": "markdown",
   "metadata": {},
   "source": [
    "Then, just type the function to output the function."
   ]
  },
  {
   "cell_type": "code",
   "execution_count": 6,
   "metadata": {},
   "outputs": [
    {
     "data": {
      "text/plain": [
       "x^2 - 3*x + 2"
      ]
     },
     "execution_count": 6,
     "metadata": {},
     "output_type": "execute_result"
    }
   ],
   "source": [
    "h(x)"
   ]
  },
  {
   "cell_type": "code",
   "execution_count": 7,
   "metadata": {},
   "outputs": [
    {
     "data": {
      "text/plain": [
       "6"
      ]
     },
     "execution_count": 7,
     "metadata": {},
     "output_type": "execute_result"
    }
   ],
   "source": [
    "h(4)"
   ]
  },
  {
   "cell_type": "markdown",
   "metadata": {},
   "source": [
    "### Division and Factoring\n",
    "Now, let's look at $\\frac{f(x)}{g(x)}$. You'll see that if we just type the equation, it doesn't do much."
   ]
  },
  {
   "cell_type": "code",
   "execution_count": 8,
   "metadata": {},
   "outputs": [
    {
     "data": {
      "text/plain": [
       "(x^2 - 4*x + 3)/(x - 1)"
      ]
     },
     "execution_count": 8,
     "metadata": {},
     "output_type": "execute_result"
    }
   ],
   "source": [
    "f(x) / g(x)"
   ]
  },
  {
   "cell_type": "markdown",
   "metadata": {},
   "source": [
    "In order to make this do something, we need to first factor $f(x)$. You can do this by adding `.factor()` after the $f(x)$."
   ]
  },
  {
   "cell_type": "code",
   "execution_count": 9,
   "metadata": {},
   "outputs": [
    {
     "data": {
      "text/plain": [
       "x^2 - 4*x + 3"
      ]
     },
     "execution_count": 9,
     "metadata": {},
     "output_type": "execute_result"
    }
   ],
   "source": [
    "f(x)"
   ]
  },
  {
   "cell_type": "code",
   "execution_count": 10,
   "metadata": {},
   "outputs": [
    {
     "data": {
      "text/plain": [
       "(x - 1)*(x - 3)"
      ]
     },
     "execution_count": 10,
     "metadata": {},
     "output_type": "execute_result"
    }
   ],
   "source": [
    "f(x).factor()"
   ]
  },
  {
   "cell_type": "markdown",
   "metadata": {},
   "source": [
    "Now, you can do the division:"
   ]
  },
  {
   "cell_type": "code",
   "execution_count": 11,
   "metadata": {},
   "outputs": [
    {
     "data": {
      "text/plain": [
       "x - 3"
      ]
     },
     "execution_count": 11,
     "metadata": {},
     "output_type": "execute_result"
    }
   ],
   "source": [
    "f(x).factor() / g(x)"
   ]
  },
  {
   "cell_type": "markdown",
   "metadata": {},
   "source": [
    "### Composite Functions and Simplifying\n",
    "Finally, we'll look at the composite function $f(g(x))$."
   ]
  },
  {
   "cell_type": "code",
   "execution_count": 12,
   "metadata": {},
   "outputs": [
    {
     "data": {
      "text/plain": [
       "(x - 1)^2 - 4*x + 7"
      ]
     },
     "execution_count": 12,
     "metadata": {},
     "output_type": "execute_result"
    }
   ],
   "source": [
    "h(x) = f( g(x) )\n",
    "h(x)"
   ]
  },
  {
   "cell_type": "markdown",
   "metadata": {},
   "source": [
    "This is helpful, but what if we want to simplify this? There are two commands we can add that will help us simplify the equation: `.expand()` and `.simplify()`. First, let's expand $h(x)$. You'll see that when we do, SageMath now knows what to do with the terms and automatically combines all terms:"
   ]
  },
  {
   "cell_type": "code",
   "execution_count": 13,
   "metadata": {},
   "outputs": [
    {
     "data": {
      "text/plain": [
       "x^2 - 6*x + 8"
      ]
     },
     "execution_count": 13,
     "metadata": {},
     "output_type": "execute_result"
    }
   ],
   "source": [
    "h(x).expand()"
   ]
  },
  {
   "cell_type": "markdown",
   "metadata": {},
   "source": [
    "The `.simplify()` function can also be helpful. Consider the function $f(x) = log(e^x)$. Following logarithmic rules, this should just equal $x$. But if we try to expand it, nothing happens. But using `.simplify()`, we get an algebraic simplification."
   ]
  },
  {
   "cell_type": "code",
   "execution_count": 14,
   "metadata": {},
   "outputs": [
    {
     "data": {
      "text/plain": [
       "log(e^x)"
      ]
     },
     "execution_count": 14,
     "metadata": {},
     "output_type": "execute_result"
    }
   ],
   "source": [
    "f(x) = log(e^x)\n",
    "f(x).expand()"
   ]
  },
  {
   "cell_type": "code",
   "execution_count": 15,
   "metadata": {},
   "outputs": [
    {
     "data": {
      "text/plain": [
       "x"
      ]
     },
     "execution_count": 15,
     "metadata": {},
     "output_type": "execute_result"
    }
   ],
   "source": [
    "f(x).simplify()"
   ]
  },
  {
   "cell_type": "markdown",
   "metadata": {},
   "source": [
    "An even more powerful version of `.simplify()` is the command `.full_simplify()` which both expands and simplifies. Doing this will solve problems the regular `.simplify()` expression cannot solve."
   ]
  },
  {
   "cell_type": "code",
   "execution_count": 16,
   "metadata": {},
   "outputs": [
    {
     "data": {
      "text/plain": [
       "cos(x)^2 + sin(x)^2"
      ]
     },
     "execution_count": 16,
     "metadata": {},
     "output_type": "execute_result"
    }
   ],
   "source": [
    "h(x) = sin(x)^2 + cos(x)^2\n",
    "h(x).simplify()"
   ]
  },
  {
   "cell_type": "code",
   "execution_count": 17,
   "metadata": {},
   "outputs": [
    {
     "data": {
      "text/plain": [
       "1"
      ]
     },
     "execution_count": 17,
     "metadata": {},
     "output_type": "execute_result"
    }
   ],
   "source": [
    "h(x).full_simplify()"
   ]
  },
  {
   "cell_type": "code",
   "execution_count": null,
   "metadata": {},
   "outputs": [],
   "source": []
  }
 ],
 "metadata": {
  "kernelspec": {
   "display_name": "SageMath 9.2",
   "language": "sage",
   "name": "sagemath"
  },
  "language_info": {
   "codemirror_mode": {
    "name": "ipython",
    "version": 3
   },
   "file_extension": ".py",
   "mimetype": "text/x-python",
   "name": "python",
   "nbconvert_exporter": "python",
   "pygments_lexer": "ipython3",
   "version": "3.7.7"
  }
 },
 "nbformat": 4,
 "nbformat_minor": 4
}
