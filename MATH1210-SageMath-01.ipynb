{
 "cells": [
  {
   "cell_type": "markdown",
   "metadata": {},
   "source": [
    "# Project 1 - Basic Use of SageMath\n",
    "### MATH 1210 - Calculus 1 &nbsp;&nbsp;&nbsp;&nbsp;&nbsp; Dr. Michael Olson &nbsp;&nbsp;&nbsp;&nbsp;&nbsp; Fall 2021"
   ]
  },
  {
   "cell_type": "raw",
   "metadata": {},
   "source": [
    "Name:  "
   ]
  },
  {
   "cell_type": "markdown",
   "metadata": {},
   "source": [
    "Before we begin, rename your file so it has your name.\n",
    "* At the top of this page, click on \"MATH1210-SageMath-01\"\n",
    "* Add your last and first name to the front: \"Last-First-MATH1210-SageMath-01\"\n",
    "\n",
    "## Introduction\n",
    "Computational mathematics has become a common tool in everything we do. Throughout the semester, we will have four projects to introduce you to using computers to solve calculus problems.\n",
    "\n",
    "In these projects, we will be using *SageMath* as our software of choice. *If you prefer another software, such as* Maple *or* Mathematica *, please let me know right away*. In our first project, I will show you the basics of *SageMath*.\n",
    "\n",
    "## Lesson 1 - SageMath Basics\n",
    "*SageMath* is based on the computer programming language *Python*, one of the most widely-used basic programming languages. As you will see, it is straightforward and easy to use.\n",
    "\n",
    "### Downloading and Installing\n",
    "To download and install the software, visit the following link:\n",
    "* https://www.sagemath.org/\n",
    "* Select Download \n",
    "* Choose a download mirror (downloads from North America will go faster)\n",
    "  * A *mirror* is a server that helps maintain updated versions of the software so that not everyone is downloading simultaneously from the same location.\n",
    "* Select your operating system\n",
    "  * If you run Linux, you may want to do a search online for how to install *SageMath* on your distribution, as each distribution handles it a little differently.\n",
    "* Select the most recent version (newest is listed at the top)\n",
    "* Download and run the program, then follow all prompts to install\n",
    "\n",
    "### Choosing a folder to save your work in\n",
    "While the software is installing, choose a folder on your computer to save your *SageMath* files. If you already have a folder with files for this class, I'd recommend just making a subfolder within your calculus folder. Download and install Lesson 1 into this folder.\n",
    "\n",
    "Once *SageMath* is installed, you will find a few new programs in your list of apps on your computer:\n",
    "* Sagemath 9.4 (or whatever version you have)\n",
    "* Sagemath 9.4 Shell \n",
    "* Sagemath 9.4 Jupyter\n",
    "\n",
    "The first two files are very helpful for running *SageMath*. But the __Jupyter__ tool will be most useful to us this semester. Go ahead and open that. Then navigate to the folder where you have saved Lesson 1 and open it."
   ]
  },
  {
   "cell_type": "markdown",
   "metadata": {},
   "source": [
    "### Setup of Jupyter\n",
    "In a Jupyter Notebook, you will find there are three types of boxes.\n",
    "1. Markdown - for notes in HTML format\n",
    "2. Code - to accomplish tasks\n",
    "3. Raw - simple text\n",
    "\n",
    "> * Turn the first box below into a Markdown file using the dropdown menu at the top of the page\n",
    "> * In the Markdown box, type your favorite fictional book.\n",
    "> * After you type in the name of the book, press 'Ctrl-Enter'\n",
    "\n",
    "> * In the second box below, type in some arithmetic function, such as `(5+3)^2 / 23`. Then press 'Ctrl-Enter'\n",
    "\n",
    "> * Turn the third box below into a RAW box. Type in your favorite class from High School and press 'Ctrl-Enter'"
   ]
  },
  {
   "cell_type": "code",
   "execution_count": null,
   "metadata": {},
   "outputs": [],
   "source": []
  },
  {
   "cell_type": "code",
   "execution_count": null,
   "metadata": {},
   "outputs": [],
   "source": []
  },
  {
   "cell_type": "code",
   "execution_count": null,
   "metadata": {},
   "outputs": [],
   "source": []
  },
  {
   "cell_type": "markdown",
   "metadata": {},
   "source": [
    "### The Console\n",
    "In JupyterLab, you can open a console, or an area where you can place individual commands, as well as a notebook.\n",
    "* In Jupyter, navigate http://localhost:8888/lab to open JupyterLab\n",
    "* Click on the \\[+\\] button below the main menu (you'll see a new tab open up)\n",
    "* Under (Console), select `SageMath`\n",
    "\n",
    "Here, you will see a box at the bottom where you can input and run a little code. This is a great place to test your code or to play around and experiment.\n",
    "\n",
    "### Simple commands\n",
    "Let's start off with the basics. You have already seen how to do some simple arithmetic.\n",
    "> In the box below, type in an equation to find one-half of the square of 37."
   ]
  },
  {
   "cell_type": "code",
   "execution_count": null,
   "metadata": {},
   "outputs": [],
   "source": []
  },
  {
   "cell_type": "markdown",
   "metadata": {},
   "source": [
    "Sometimes, we want to do a calculation and save its value for use later. We can save a result within a variable. For example, \n",
    "\n",
    "```python\n",
    "ans = (5+3)^2 / 23\n",
    "```\n",
    "\n",
    "To recall the variable later, just type in the variable's name:\n",
    "\n",
    "```python\n",
    "ans\n",
    "```\n",
    "\n",
    "> In the first box below save your answer to the last question (one-half of the square of 37) to the variable `x_prime`. Press 'Ctrl-Enter'\n",
    ">\n",
    "> In the second box below, recall the variable `x_prime` to see its result."
   ]
  },
  {
   "cell_type": "code",
   "execution_count": null,
   "metadata": {},
   "outputs": [],
   "source": []
  },
  {
   "cell_type": "code",
   "execution_count": null,
   "metadata": {},
   "outputs": [],
   "source": []
  },
  {
   "cell_type": "markdown",
   "metadata": {},
   "source": [
    "In these cells, we can also identify symbolic variables and functions. To identify a function, type in the code,\n",
    "\n",
    "```python\n",
    "x = var('x')\n",
    "```\n",
    "\n",
    "To identify a function, you can just type the equation.\n",
    "```python\n",
    "f(x) = x^2 + 5*x - 1\n",
    "```\n",
    "\n",
    "#### Problem\n",
    "__Background__: The velocity of an accelerating object is calculated with the physics equation,\n",
    "$$ v(t) = v_0 + a t $$\n",
    "where $v(t)$ is the velocity at time $t$, $v_0 = v(0)$, and $a$ is the acceleration, or rate at which the speed changes.\n",
    "\n",
    "A car accelerates at a rate of $2.75 m/s^2$ (That is, it speeds up by $2.75 m/s$ every second) from a starting speed of $1.0 m/s$.\n",
    "\n",
    "1. In the following cells, define a variable $t$ and a function $v(t)$ that represents the velocity at any given time $t$.\n",
    "2. Use the defined function $v(t)$ to find the velocity, (a) after 1 second,     (b) after 2 seconds,     (c) after 10 seconds,     (d) after 1 minute (60 s), and (e) after 3.5 minutes (convert to seconds)."
   ]
  },
  {
   "cell_type": "code",
   "execution_count": null,
   "metadata": {},
   "outputs": [],
   "source": []
  },
  {
   "cell_type": "code",
   "execution_count": null,
   "metadata": {},
   "outputs": [],
   "source": []
  },
  {
   "cell_type": "code",
   "execution_count": null,
   "metadata": {},
   "outputs": [],
   "source": []
  },
  {
   "cell_type": "code",
   "execution_count": null,
   "metadata": {},
   "outputs": [],
   "source": []
  },
  {
   "cell_type": "code",
   "execution_count": null,
   "metadata": {},
   "outputs": [],
   "source": []
  },
  {
   "cell_type": "code",
   "execution_count": null,
   "metadata": {},
   "outputs": [],
   "source": []
  },
  {
   "cell_type": "code",
   "execution_count": null,
   "metadata": {},
   "outputs": [],
   "source": []
  }
 ],
 "metadata": {
  "kernelspec": {
   "display_name": "SageMath 9.2",
   "language": "sage",
   "name": "sagemath"
  },
  "language_info": {
   "codemirror_mode": {
    "name": "ipython",
    "version": 3
   },
   "file_extension": ".py",
   "mimetype": "text/x-python",
   "name": "python",
   "nbconvert_exporter": "python",
   "pygments_lexer": "ipython3",
   "version": "3.7.7"
  }
 },
 "nbformat": 4,
 "nbformat_minor": 4
}
