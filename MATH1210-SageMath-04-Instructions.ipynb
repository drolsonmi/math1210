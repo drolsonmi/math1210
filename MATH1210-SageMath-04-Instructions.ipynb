{
 "cells": [
  {
   "cell_type": "markdown",
   "metadata": {},
   "source": [
    "# Project 4 - Derivatives - Tutorial\n",
    "### MATH 1210 - Calculus 1 &nbsp;&nbsp;&nbsp;&nbsp;&nbsp; Dr. Michael Olson &nbsp;&nbsp;&nbsp;&nbsp;&nbsp; Fall 2021"
   ]
  },
  {
   "cell_type": "markdown",
   "metadata": {},
   "source": [
    "## Lesson 4 - Derivatives\n",
    "We have learned how to take derivatives using the differentiation rules described in the textbook. However, there are some derivatives that are too difficult to differentiate by hand. Computer Software like SageMath make this task easier. Many of the commands for calculus functions can be found at the following link:\n",
    "* [Calculus Quick Reference Guide](https://wiki.sagemath.org/quickref?action=AttachFile&do=view&target=quickref-calc.pdf)\n",
    "\n",
    "Simply put, if a function $f(x)$ is defined, then the derivative can be found using,\n",
    "```python\n",
    "diff( f(x), x )\n",
    "```\n",
    "\n",
    "This calculates the derivative of ```f(x)``` with respect to the variable ```x```.\n",
    "\n",
    "Let's start with a simple example. Let's take the following function:\n",
    "$$f(x)=x^5 \\qquad f'(x)=5x^4$$\n",
    "If we program this function, we should be able to get its derivative as follows:"
   ]
  },
  {
   "cell_type": "code",
   "execution_count": 1,
   "metadata": {},
   "outputs": [
    {
     "data": {
      "text/plain": [
       "x^5"
      ]
     },
     "execution_count": 1,
     "metadata": {},
     "output_type": "execute_result"
    }
   ],
   "source": [
    "x = var('x')\n",
    "f(x) = x^5\n",
    "f(x)"
   ]
  },
  {
   "cell_type": "code",
   "execution_count": 2,
   "metadata": {},
   "outputs": [
    {
     "data": {
      "text/plain": [
       "5*x^4"
      ]
     },
     "execution_count": 2,
     "metadata": {},
     "output_type": "execute_result"
    }
   ],
   "source": [
    "diff( f(x), x )"
   ]
  },
  {
   "cell_type": "markdown",
   "metadata": {},
   "source": [
    "This is the derivative we anticipated. Alternatively, you can call the derivative function as a method. This is done by stating the function and adding `.diff(x)`. So, \n",
    "```python\n",
    "f(x).diff(x)\n",
    "```\n",
    "would be the derivative of $f(x)$ with respect to $x$. Substitute $x$ for the appropriate variable of the function."
   ]
  },
  {
   "cell_type": "code",
   "execution_count": 3,
   "metadata": {},
   "outputs": [
    {
     "data": {
      "text/plain": [
       "5*x^4"
      ]
     },
     "execution_count": 3,
     "metadata": {},
     "output_type": "execute_result"
    }
   ],
   "source": [
    "f(x).diff(x)"
   ]
  },
  {
   "cell_type": "markdown",
   "metadata": {},
   "source": [
    "Either method for finding the derivative is correct and will give you the same result.\n",
    "\n",
    "__Example__\n",
    "\n",
    "Let's try a more complicated example. The position of a given spring can be determined by the equation:\n",
    "$$x(t) = 5 cos(\\frac{\\pi}{6}t)$$\n",
    "What is the velocity of this spring at a given time $t$?\n",
    "\n",
    "We define the variable $t$ and the function $x(t)$."
   ]
  },
  {
   "cell_type": "code",
   "execution_count": 4,
   "metadata": {},
   "outputs": [
    {
     "data": {
      "text/plain": [
       "5*cos(1/6*pi*t)"
      ]
     },
     "execution_count": 4,
     "metadata": {},
     "output_type": "execute_result"
    }
   ],
   "source": [
    "t = var('t')\n",
    "x(t) = 5*cos( (pi/6) * t)\n",
    "x(t)"
   ]
  },
  {
   "cell_type": "markdown",
   "metadata": {},
   "source": [
    "Now, we take the derivative."
   ]
  },
  {
   "cell_type": "code",
   "execution_count": 5,
   "metadata": {},
   "outputs": [
    {
     "data": {
      "text/plain": [
       "-5/6*pi*sin(1/6*pi*t)"
      ]
     },
     "execution_count": 5,
     "metadata": {},
     "output_type": "execute_result"
    }
   ],
   "source": [
    "diff( x(t), t )"
   ]
  },
  {
   "cell_type": "markdown",
   "metadata": {},
   "source": [
    "We can save this as a function $v(t)$ and calculate the position $x(t)$ and velocity $v(t)$ of the spring at a given time. Let's find the spring's position and velocity at time $t=3.5 sec$."
   ]
  },
  {
   "cell_type": "code",
   "execution_count": 6,
   "metadata": {},
   "outputs": [
    {
     "data": {
      "text/plain": [
       "-5/6*pi*sin(1/6*pi*t)"
      ]
     },
     "execution_count": 6,
     "metadata": {},
     "output_type": "execute_result"
    }
   ],
   "source": [
    "v(t) = diff( x(t), t )\n",
    "v(t)"
   ]
  },
  {
   "cell_type": "code",
   "execution_count": 7,
   "metadata": {},
   "outputs": [
    {
     "data": {
      "text/plain": [
       "5*cos(0.583333333333333*pi)"
      ]
     },
     "execution_count": 7,
     "metadata": {},
     "output_type": "execute_result"
    }
   ],
   "source": [
    "x(3.5)"
   ]
  },
  {
   "cell_type": "code",
   "execution_count": 8,
   "metadata": {},
   "outputs": [
    {
     "data": {
      "text/plain": [
       "-5/6*pi*sin(0.583333333333333*pi)"
      ]
     },
     "execution_count": 8,
     "metadata": {},
     "output_type": "execute_result"
    }
   ],
   "source": [
    "v(3.5)"
   ]
  },
  {
   "cell_type": "markdown",
   "metadata": {},
   "source": [
    "This last result uses $\\pi$ and $\\sin$. Let's turn this into a decimal by adding the ```.n()``` method at the end."
   ]
  },
  {
   "cell_type": "code",
   "execution_count": 9,
   "metadata": {},
   "outputs": [
    {
     "data": {
      "text/plain": [
       "-1.29409522551260"
      ]
     },
     "execution_count": 9,
     "metadata": {},
     "output_type": "execute_result"
    }
   ],
   "source": [
    "x(3.5).n()"
   ]
  },
  {
   "cell_type": "code",
   "execution_count": 10,
   "metadata": {},
   "outputs": [
    {
     "data": {
      "text/plain": [
       "-2.52878789981866"
      ]
     },
     "execution_count": 10,
     "metadata": {},
     "output_type": "execute_result"
    }
   ],
   "source": [
    "v(3.5).n()"
   ]
  },
  {
   "cell_type": "markdown",
   "metadata": {},
   "source": [
    "We can plot these functions just as we did in the *SageMath 3* assignment. Unless otherwise specified when writing the code for plotting:\n",
    "* the variable of the function ($t$) is the x-axis\n",
    "* the function itself \\[$x(t)$\\] is the y-axis"
   ]
  },
  {
   "cell_type": "code",
   "execution_count": 11,
   "metadata": {},
   "outputs": [
    {
     "data": {
      "image/png": "[encoded data removed]",
      "text/plain": [
       "Graphics object consisting of 2 graphics primitives"
      ]
     },
     "metadata": {},
     "output_type": "display_data"
    }
   ],
   "source": [
    "px = plot(x(t),     # x(t) is the y-axis\n",
    "         xmin = -5,  # t is the x-axis, so xmin is the minimum t\n",
    "         xmax = 5,\n",
    "         legend_label = 'Position $x(t)$',\n",
    "         axes_labels = ['time (t)',''],\n",
    "         title = 'Position and Velocity as a function of time')\n",
    "\n",
    "pv = plot(v(t),\n",
    "         xmin = -5,\n",
    "         xmax = 5,\n",
    "         color='red',\n",
    "         legend_label = 'Velocity $v(t)$')\n",
    "\n",
    "p = px + pv\n",
    "p.show()"
   ]
  },
  {
   "cell_type": "markdown",
   "metadata": {},
   "source": [
    "Notice that the velocity (the derivative) perfectly matches the slope of the position (the function)."
   ]
  }
 ],
 "metadata": {
  "kernelspec": {
   "display_name": "SageMath 9.2",
   "language": "sage",
   "name": "sagemath"
  },
  "language_info": {
   "codemirror_mode": {
    "name": "ipython",
    "version": 3
   },
   "file_extension": ".py",
   "mimetype": "text/x-python",
   "name": "python",
   "nbconvert_exporter": "python",
   "pygments_lexer": "ipython3",
   "version": "3.7.7"
  }
 },
 "nbformat": 4,
 "nbformat_minor": 4
}
