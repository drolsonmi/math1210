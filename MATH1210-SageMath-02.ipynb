{
 "cells": [
  {
   "cell_type": "markdown",
   "metadata": {},
   "source": [
    "# Project 2 - Algebraic Tools in SageMath\n",
    "### MATH 1210 - Calculus 1 &nbsp;&nbsp;&nbsp;&nbsp;&nbsp; Dr. Michael Olson &nbsp;&nbsp;&nbsp;&nbsp;&nbsp; Fall 2021"
   ]
  },
  {
   "cell_type": "raw",
   "metadata": {},
   "source": [
    "Name:  "
   ]
  },
  {
   "cell_type": "markdown",
   "metadata": {},
   "source": [
    "Before we begin, rename your file so it has your name.\n",
    "* At the top of this page, click on \"MATH1210-SageMath-02\"\n",
    "* Add your last and first name to the front: \"Last-First-MATH1210-SageMath-02\"\n",
    "\n",
    "## Practice\n",
    "Let's define the following two functions:\n",
    "$$f(x) = 2x^2 + 5x - 12 \\qquad g(x) = x + 4$$"
   ]
  },
  {
   "cell_type": "code",
   "execution_count": null,
   "metadata": {},
   "outputs": [],
   "source": []
  },
  {
   "cell_type": "markdown",
   "metadata": {},
   "source": [
    "First, find the factors of $f(x)$."
   ]
  },
  {
   "cell_type": "code",
   "execution_count": null,
   "metadata": {},
   "outputs": [],
   "source": []
  },
  {
   "cell_type": "markdown",
   "metadata": {},
   "source": [
    "Based on the factors, what are the zeroes of $f(x)$?"
   ]
  },
  {
   "cell_type": "raw",
   "metadata": {},
   "source": [
    "Zeroes of f(x):  "
   ]
  },
  {
   "cell_type": "markdown",
   "metadata": {},
   "source": [
    "Now, use SageMath to calculate the zeroes of $f(x)$.\n",
    "* That is, solve the equation $f(x)=0$ for $x$."
   ]
  },
  {
   "cell_type": "code",
   "execution_count": null,
   "metadata": {},
   "outputs": [],
   "source": []
  },
  {
   "cell_type": "markdown",
   "metadata": {},
   "source": [
    "Use the commands `.factor()`, `.simplify()`, `.full_simplify()`, and `.expand()` to find a simplified polynomial to the following questions:\n",
    "\n",
    "1. Find $f(x) - g(x)$"
   ]
  },
  {
   "cell_type": "code",
   "execution_count": null,
   "metadata": {},
   "outputs": [],
   "source": []
  },
  {
   "cell_type": "markdown",
   "metadata": {},
   "source": [
    "2. Find $f(x) * g(x)$"
   ]
  },
  {
   "cell_type": "code",
   "execution_count": null,
   "metadata": {},
   "outputs": [],
   "source": []
  },
  {
   "cell_type": "markdown",
   "metadata": {},
   "source": [
    "3. Find $\\frac{f(x)}{g(x)}$"
   ]
  },
  {
   "cell_type": "code",
   "execution_count": null,
   "metadata": {},
   "outputs": [],
   "source": []
  },
  {
   "cell_type": "markdown",
   "metadata": {},
   "source": [
    "4. Find $f(g(x))$"
   ]
  },
  {
   "cell_type": "code",
   "execution_count": null,
   "metadata": {},
   "outputs": [],
   "source": []
  },
  {
   "cell_type": "markdown",
   "metadata": {},
   "source": [
    "5. Find $g(f(x))$"
   ]
  },
  {
   "cell_type": "code",
   "execution_count": null,
   "metadata": {},
   "outputs": [],
   "source": []
  },
  {
   "cell_type": "markdown",
   "metadata": {},
   "source": [
    "## Problem\n",
    "Two student clubs have come up with a method to make sure there are enough doughnuts at their meetings. The Astronomy club takes the number of members ($x$) and adds an extra 6 doughnuts to their order. The Math club doubles the number of members ($x$) but orders 7 shy of that.\n",
    "* Come up with expressions for each formula.\n",
    "  * Let $f(x)$ be the equation for the Astronomy club\n",
    "  * Let $g(x)$ be the equation for the Math club"
   ]
  },
  {
   "cell_type": "code",
   "execution_count": null,
   "metadata": {},
   "outputs": [],
   "source": []
  },
  {
   "cell_type": "markdown",
   "metadata": {},
   "source": [
    "__Questions__\n",
    "1. How many doughnuts total will be ordered if 12 Astronomy club members attend their meeting and 8 Math club members attend theirs?"
   ]
  },
  {
   "cell_type": "code",
   "execution_count": null,
   "metadata": {},
   "outputs": [],
   "source": []
  },
  {
   "cell_type": "markdown",
   "metadata": {},
   "source": [
    "2. How many members attended the Astronomy club if they ordered 24 doughnuts?"
   ]
  },
  {
   "cell_type": "code",
   "execution_count": null,
   "metadata": {},
   "outputs": [],
   "source": []
  },
  {
   "cell_type": "markdown",
   "metadata": {},
   "source": [
    "3. Assume the attendees at the Astronomy club are the same attendees at the Math club (that is, $x$ is the same for both club meetings). How many need to attend so that the number of doughnuts ordered is the same for both meetings?"
   ]
  },
  {
   "cell_type": "code",
   "execution_count": null,
   "metadata": {},
   "outputs": [],
   "source": []
  },
  {
   "cell_type": "markdown",
   "metadata": {},
   "source": [
    "4. Suppose that every doughnut bought by the Astronomy club guarantees the same number of attendees at the Math club (that is, if the Astronomy club orders $f(x)$ doughnuts, then there will be $f(x)$ attendees at the Math club. Find the new simplified equation for doughnuts needed in the Math club."
   ]
  },
  {
   "cell_type": "code",
   "execution_count": null,
   "metadata": {},
   "outputs": [],
   "source": []
  }
 ],
 "metadata": {
  "kernelspec": {
   "display_name": "SageMath 9.2",
   "language": "sage",
   "name": "sagemath"
  },
  "language_info": {
   "codemirror_mode": {
    "name": "ipython",
    "version": 3
   },
   "file_extension": ".py",
   "mimetype": "text/x-python",
   "name": "python",
   "nbconvert_exporter": "python",
   "pygments_lexer": "ipython3",
   "version": "3.8.12"
  }
 },
 "nbformat": 4,
 "nbformat_minor": 4
}
