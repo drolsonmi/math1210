{
 "cells": [
  {
   "cell_type": "markdown",
   "id": "45114605",
   "metadata": {},
   "source": [
    "# Project 4 - Derivatives\n",
    "### MATH 1210 - Calculus 1 &nbsp;&nbsp;&nbsp;&nbsp;&nbsp; Dr. Michael Olson &nbsp;&nbsp;&nbsp;&nbsp;&nbsp; Fall 2021"
   ]
  },
  {
   "cell_type": "raw",
   "id": "bf7805eb",
   "metadata": {},
   "source": [
    "Name: "
   ]
  },
  {
   "cell_type": "markdown",
   "id": "fab0f481",
   "metadata": {},
   "source": [
    "Before we begin, rename your file so it has your name.\n",
    "* At the top of this page, click on \"MATH1210-SageMath-04\"\n",
    "* Add your last and first name to the front: \"Last-First-MATH1210-SageMath-04\"\n",
    "\n",
    "## Practice\n",
    "Let's define the following two functions:\n",
    "$$f(x) = 2x^2 - \\sin{x} \\qquad g(t) = \\cos^2\\sqrt{t + 4}$$\n",
    "\n",
    "* Define your variables and functions\n",
    "* Use SageMath to find the derivatives $f'(x)$ and $g'(t)$\n",
    "  * Hint: To do a square-root in SageMath, use `sqrt(x)`"
   ]
  },
  {
   "cell_type": "code",
   "execution_count": null,
   "id": "1e516740",
   "metadata": {},
   "outputs": [],
   "source": []
  },
  {
   "cell_type": "code",
   "execution_count": null,
   "id": "83c7714a",
   "metadata": {},
   "outputs": [],
   "source": []
  },
  {
   "cell_type": "code",
   "execution_count": null,
   "id": "457501c6",
   "metadata": {},
   "outputs": [],
   "source": []
  },
  {
   "cell_type": "markdown",
   "id": "32825bea",
   "metadata": {},
   "source": [
    "Use the Derivative Rules (including the Chain Rule) to verify these are the derivatives of $f(x)$ and $g(x)$."
   ]
  },
  {
   "cell_type": "raw",
   "id": "ba12c9df",
   "metadata": {},
   "source": [
    "Did you get the same answer for df/dx?  "
   ]
  },
  {
   "cell_type": "raw",
   "id": "c14c3641",
   "metadata": {},
   "source": [
    "Did you get the same answer for dg/dx?"
   ]
  },
  {
   "cell_type": "markdown",
   "id": "af3aa753",
   "metadata": {},
   "source": [
    "## Problem\n",
    "A company is making pencils specifically for Calculus Students that have the derivative rules written on their sides. The CEO of this company wants to know the cost of making these pencils. After doing some research, she sees that the cost as a function of the number of pencils made closely follows the function:\n",
    "$$ C(x) = e^{-\\frac{x}{100}}\\sqrt{x} $$\n",
    "where $x$ is the number of pencils made.\n",
    "\n",
    "Using SageMath, find the equation for the Marginal Cost for making pencils."
   ]
  },
  {
   "cell_type": "code",
   "execution_count": null,
   "id": "07d84f4b",
   "metadata": {},
   "outputs": [],
   "source": []
  },
  {
   "cell_type": "markdown",
   "id": "10bb1a01",
   "metadata": {},
   "source": [
    "Plot the Cost and the Marginal Cost together. Include a title, x-axis, and legend. Limit the x-axis so it doesn't show negative x values, since it doesn't make sense to make -2 pencils..."
   ]
  },
  {
   "cell_type": "code",
   "execution_count": null,
   "id": "03870540",
   "metadata": {},
   "outputs": [],
   "source": []
  },
  {
   "cell_type": "markdown",
   "id": "853e108d",
   "metadata": {},
   "source": [
    "The Revenue can be found as the product of the number of pencils sold $x$ and the price for the pencils $p(x)=1 - 0.03x$. So, the revenue is,\n",
    "$$ R(x) = x p(x) $$\n",
    "\n",
    "Program this function, and find the marginal revenue using SageMath. Then plot the two functions together. Include a title, x-axis, and legend."
   ]
  },
  {
   "cell_type": "code",
   "execution_count": null,
   "id": "a33a71da",
   "metadata": {},
   "outputs": [],
   "source": []
  },
  {
   "cell_type": "markdown",
   "id": "1145da48",
   "metadata": {},
   "source": [
    "__Questions__\n",
    "1. How much does it cost to make 25 pencils?\n",
    "2. What is the marginal cost for making the 25th pencil? (That is, after making the 24th pencil, how much extra does it cost to make one more?)"
   ]
  },
  {
   "cell_type": "code",
   "execution_count": null,
   "id": "67b598d7",
   "metadata": {},
   "outputs": [],
   "source": []
  },
  {
   "cell_type": "code",
   "execution_count": null,
   "id": "c700dade",
   "metadata": {},
   "outputs": [],
   "source": []
  },
  {
   "cell_type": "markdown",
   "id": "c502b0dd",
   "metadata": {},
   "source": [
    "3. How much revenue is made by selling 25 pencils?\n",
    "4. What is the marginal revenue for selling the 25th pencil?"
   ]
  },
  {
   "cell_type": "code",
   "execution_count": null,
   "id": "8ae35364",
   "metadata": {},
   "outputs": [],
   "source": []
  },
  {
   "cell_type": "code",
   "execution_count": null,
   "id": "c5275422",
   "metadata": {},
   "outputs": [],
   "source": []
  }
 ],
 "metadata": {
  "kernelspec": {
   "display_name": "SageMath 9.2",
   "language": "sage",
   "name": "sagemath"
  },
  "language_info": {
   "codemirror_mode": {
    "name": "ipython",
    "version": 3
   },
   "file_extension": ".py",
   "mimetype": "text/x-python",
   "name": "python",
   "nbconvert_exporter": "python",
   "pygments_lexer": "ipython3",
   "version": "3.7.7"
  }
 },
 "nbformat": 4,
 "nbformat_minor": 5
}
