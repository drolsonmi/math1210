{
 "cells": [
  {
   "cell_type": "markdown",
   "id": "45114605",
   "metadata": {},
   "source": [
    "# Project 5 - Newton's Method\n",
    "### MATH 1210 - Calculus 1 &nbsp;&nbsp;&nbsp;&nbsp;&nbsp; Dr. Michael Olson &nbsp;&nbsp;&nbsp;&nbsp;&nbsp; Fall 2021"
   ]
  },
  {
   "cell_type": "raw",
   "id": "bf7805eb",
   "metadata": {},
   "source": [
    "Name: "
   ]
  },
  {
   "cell_type": "markdown",
   "id": "fab0f481",
   "metadata": {},
   "source": [
    "Before we begin, rename your file so it has your name.\n",
    "* At the top of this page, click on \"MATH1210-SageMath-05\"\n",
    "* Add your last and first name to the front: \"Last-First-MATH1210-SageMath-05\"\n",
    "\n",
    "## Goal\n",
    "In this assignment, we are going to use Newton's Method as given on the Instructions page to solve some basic equations. We'll also apply Newton's Method to a real-life example.\n",
    "* There is no need to plot in this assignment. The plots in the instructions were merely to illustrate what is happening in Newton's Method.\n",
    "\n",
    "## Practice 1\n",
    "Define the following function:\n",
    "$$f(x) = x^2 - 4x - 21$$\n",
    "\n",
    "* Define your variables and function\n",
    "* Use SageMath to approximate the zeroes of this function\n",
    "  * Hint: There are two roots. You'll have to do this process twice. Try starting at different initial points.\n",
    "  * If your function doesn't converge with your iterations, try increasing the number of iterations."
   ]
  },
  {
   "cell_type": "code",
   "execution_count": null,
   "id": "83c7714a",
   "metadata": {},
   "outputs": [],
   "source": []
  },
  {
   "cell_type": "code",
   "execution_count": null,
   "id": "457501c6",
   "metadata": {},
   "outputs": [],
   "source": []
  },
  {
   "cell_type": "markdown",
   "id": "606feedc",
   "metadata": {},
   "source": [
    "Now, calculate the zeroes by hand."
   ]
  },
  {
   "cell_type": "raw",
   "id": "bae20c56",
   "metadata": {},
   "source": [
    "Did you get the same zeroes by hand as with SageMath? ____"
   ]
  },
  {
   "cell_type": "markdown",
   "id": "6a2a42cb",
   "metadata": {},
   "source": [
    "## Practice 2\n",
    "Find the zeroes of,\n",
    "$$ f(x) = \\frac{\\sqrt{2-x+x^3}}{1-x} $$\n",
    "\n",
    "* *Recall*: To do a square root in SageMath, type `sqrt(x)`, replacing $x$ with the term under the radical."
   ]
  },
  {
   "cell_type": "code",
   "execution_count": null,
   "id": "bdd00db2",
   "metadata": {},
   "outputs": [],
   "source": []
  },
  {
   "cell_type": "markdown",
   "id": "32825bea",
   "metadata": {},
   "source": [
    "## Practice 3\n",
    "Estimate $\\pi$ by finding the first positive zero of $f(x) = \\sin x$."
   ]
  },
  {
   "cell_type": "code",
   "execution_count": null,
   "id": "5e96b68b",
   "metadata": {},
   "outputs": [],
   "source": []
  },
  {
   "cell_type": "markdown",
   "id": "af3aa753",
   "metadata": {},
   "source": [
    "## Problem\n",
    "You have some sensitive equipment, and you don't want it to overheat. Your computer model shows the temperature is following the formula,\n",
    "$$ T(t) = 13\\cos \\left(\\frac{t}{5}-2\\right) + 60$$\n",
    "\n",
    "where the temperature $T$ is in $^\\circ C$ and the time $t$ is in hours. \n",
    "\n",
    "You set the equipment to automatically shut down when it reaches $70^\\circ C$. \n",
    "\n",
    "__Question__\n",
    "\n",
    "At what time will the machine shut down?"
   ]
  },
  {
   "cell_type": "code",
   "execution_count": null,
   "id": "07d84f4b",
   "metadata": {},
   "outputs": [],
   "source": []
  },
  {
   "cell_type": "code",
   "execution_count": null,
   "id": "03870540",
   "metadata": {},
   "outputs": [],
   "source": []
  },
  {
   "cell_type": "code",
   "execution_count": null,
   "id": "a33a71da",
   "metadata": {},
   "outputs": [],
   "source": []
  },
  {
   "cell_type": "code",
   "execution_count": null,
   "id": "c5275422",
   "metadata": {},
   "outputs": [],
   "source": []
  }
 ],
 "metadata": {
  "kernelspec": {
   "display_name": "SageMath 9.2",
   "language": "sage",
   "name": "sagemath"
  },
  "language_info": {
   "codemirror_mode": {
    "name": "ipython",
    "version": 3
   },
   "file_extension": ".py",
   "mimetype": "text/x-python",
   "name": "python",
   "nbconvert_exporter": "python",
   "pygments_lexer": "ipython3",
   "version": "3.8.12"
  }
 },
 "nbformat": 4,
 "nbformat_minor": 5
}
