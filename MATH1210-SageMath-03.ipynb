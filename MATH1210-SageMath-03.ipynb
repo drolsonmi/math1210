{
 "cells": [
  {
   "cell_type": "markdown",
   "metadata": {},
   "source": [
    "# Project 3 - Plotting\n",
    "### MATH 1210 - Calculus 1 &nbsp;&nbsp;&nbsp;&nbsp;&nbsp; Dr. Michael Olson "
   ]
  },
  {
   "cell_type": "raw",
   "metadata": {},
   "source": [
    "Name:  \n",
    "Semester:  "
   ]
  },
  {
   "cell_type": "markdown",
   "metadata": {},
   "source": [
    "Before we begin, rename your file so it has your name.\n",
    "* At the top of this page, click on \"MATH1210-SageMath-03\"\n",
    "* Add your last and first name to the front: \"Last-First-MATH1210-SageMath-03\"\n",
    "\n",
    "## Practice\n",
    "Let's define the following two functions:\n",
    "$$f(x) = 2x^2 - 2 \\qquad g(x) = x + 4$$\n",
    "\n",
    "Define your variables and functions, then plot f(x), setting the x-limits to $-3 \\le x \\le 3$."
   ]
  },
  {
   "cell_type": "code",
   "execution_count": null,
   "metadata": {},
   "outputs": [],
   "source": []
  },
  {
   "cell_type": "markdown",
   "metadata": {},
   "source": [
    "Plot f(x) again with the same limits, but add a title called \"Quadratic Function\" and an x-label called \"x\"."
   ]
  },
  {
   "cell_type": "code",
   "execution_count": null,
   "metadata": {},
   "outputs": [],
   "source": []
  },
  {
   "cell_type": "markdown",
   "metadata": {},
   "source": [
    "Plot f(x) one more time, adding a legend label called \"f(x)=2x^2-2\"."
   ]
  },
  {
   "cell_type": "code",
   "execution_count": null,
   "metadata": {},
   "outputs": [],
   "source": []
  },
  {
   "cell_type": "markdown",
   "metadata": {},
   "source": [
    "Plot g(x), setting the color to something besides blue, and make the line dashed."
   ]
  },
  {
   "cell_type": "code",
   "execution_count": null,
   "metadata": {},
   "outputs": [],
   "source": []
  },
  {
   "cell_type": "markdown",
   "metadata": {},
   "source": [
    "Plot g(x) again, adding a legend label called \"g(x)=x+4\""
   ]
  },
  {
   "cell_type": "code",
   "execution_count": null,
   "metadata": {},
   "outputs": [],
   "source": []
  },
  {
   "cell_type": "markdown",
   "metadata": {},
   "source": [
    "Finally, plot the two functions together, along with all of the labels and styling that you added in the last few questions. Change the title and axis labels to something appropriate for the two functions."
   ]
  },
  {
   "cell_type": "code",
   "execution_count": null,
   "metadata": {},
   "outputs": [],
   "source": []
  },
  {
   "cell_type": "markdown",
   "metadata": {},
   "source": [
    "## Problem\n",
    "You are performing a researching project, watching the growth of Elk and Deer herds. The Elk herd's population can be modeled as,\n",
    "$$E(t) = t^2 + 4t + 5$$\n",
    "while the Deer herd population is modeled as,\n",
    "$$D(t) = 0.5t^2 + 3t + 10$$\n",
    "where $t$ is in years.\n",
    "\n",
    "Plot these two functions on the same plot. \n",
    "* We are only interested in what is happening for the next four years, so limit your x-axis to $0\\le t\\le 4$.\n",
    "* Be sure to include the following:\n",
    "  * Title\n",
    "  * x-axis limits\n",
    "  * x-axis label\n",
    "  * Legend"
   ]
  },
  {
   "cell_type": "code",
   "execution_count": null,
   "metadata": {},
   "outputs": [],
   "source": []
  },
  {
   "cell_type": "markdown",
   "metadata": {},
   "source": [
    "### Questions\n",
    "\n",
    "Use your graph to answer these questions:\n",
    "1. Right now, which herd is greater?"
   ]
  },
  {
   "cell_type": "raw",
   "metadata": {},
   "source": []
  },
  {
   "cell_type": "markdown",
   "metadata": {},
   "source": [
    "2. When will the two herds be the same size?"
   ]
  },
  {
   "cell_type": "raw",
   "metadata": {},
   "source": []
  }
 ],
 "metadata": {
  "kernelspec": {
   "display_name": "SageMath 9.2",
   "language": "sage",
   "name": "sagemath"
  },
  "language_info": {
   "codemirror_mode": {
    "name": "ipython",
    "version": 3
   },
   "file_extension": ".py",
   "mimetype": "text/x-python",
   "name": "python",
   "nbconvert_exporter": "python",
   "pygments_lexer": "ipython3",
   "version": "3.7.7"
  }
 },
 "nbformat": 4,
 "nbformat_minor": 4
}
